{
  "nbformat": 4,
  "nbformat_minor": 0,
  "metadata": {
    "colab": {
      "name": "hw4_semantics.ipynb",
      "provenance": [],
      "toc_visible": true,
      "authorship_tag": "ABX9TyOUSUNArphmAhyQlzvYbL6z"
    },
    "kernelspec": {
      "name": "python3",
      "display_name": "Python 3"
    }
  },
  "cells": [
    {
      "cell_type": "code",
      "metadata": {
        "id": "KCHnmCkYMos2"
      },
      "source": [
        "import pandas as pd\n",
        "import numpy as np"
      ],
      "execution_count": 1,
      "outputs": []
    },
    {
      "cell_type": "code",
      "metadata": {
        "id": "-PhINgLMIDDi",
        "outputId": "89a415d7-bea7-4663-d747-3d9d31807b00",
        "colab": {
          "base_uri": "https://localhost:8080/",
          "height": 211
        }
      },
      "source": [
        "pip install gensim==3.7.3"
      ],
      "execution_count": 2,
      "outputs": [
        {
          "output_type": "stream",
          "text": [
            "Requirement already satisfied: gensim==3.7.3 in /usr/local/lib/python3.6/dist-packages (3.7.3)\n",
            "Requirement already satisfied: six>=1.5.0 in /usr/local/lib/python3.6/dist-packages (from gensim==3.7.3) (1.15.0)\n",
            "Requirement already satisfied: numpy>=1.11.3 in /usr/local/lib/python3.6/dist-packages (from gensim==3.7.3) (1.18.5)\n",
            "Requirement already satisfied: scipy>=0.18.1 in /usr/local/lib/python3.6/dist-packages (from gensim==3.7.3) (1.4.1)\n",
            "Requirement already satisfied: smart-open>=1.7.0 in /usr/local/lib/python3.6/dist-packages (from gensim==3.7.3) (2.2.0)\n",
            "Requirement already satisfied: requests in /usr/local/lib/python3.6/dist-packages (from smart-open>=1.7.0->gensim==3.7.3) (2.23.0)\n",
            "Requirement already satisfied: idna<3,>=2.5 in /usr/local/lib/python3.6/dist-packages (from requests->smart-open>=1.7.0->gensim==3.7.3) (2.10)\n",
            "Requirement already satisfied: urllib3!=1.25.0,!=1.25.1,<1.26,>=1.21.1 in /usr/local/lib/python3.6/dist-packages (from requests->smart-open>=1.7.0->gensim==3.7.3) (1.24.3)\n",
            "Requirement already satisfied: certifi>=2017.4.17 in /usr/local/lib/python3.6/dist-packages (from requests->smart-open>=1.7.0->gensim==3.7.3) (2020.6.20)\n",
            "Requirement already satisfied: chardet<4,>=3.0.2 in /usr/local/lib/python3.6/dist-packages (from requests->smart-open>=1.7.0->gensim==3.7.3) (3.0.4)\n"
          ],
          "name": "stdout"
        }
      ]
    },
    {
      "cell_type": "code",
      "metadata": {
        "id": "iq5g_XF928ec"
      },
      "source": [
        "import warnings\n",
        "warnings.filterwarnings('ignore')"
      ],
      "execution_count": 3,
      "outputs": []
    },
    {
      "cell_type": "code",
      "metadata": {
        "id": "UV2QFcYDOTAm"
      },
      "source": [
        "df = pd.read_csv('queries_base_result.csv')"
      ],
      "execution_count": 4,
      "outputs": []
    },
    {
      "cell_type": "code",
      "metadata": {
        "id": "k2By0DR5OYrR"
      },
      "source": [
        "del df['Unnamed: 0']\n",
        "del df['Unnamed: 0.1']\n",
        "del df['Natasha']\n",
        "del df['Natasha + new rule']"
      ],
      "execution_count": 5,
      "outputs": []
    },
    {
      "cell_type": "code",
      "metadata": {
        "id": "vcKJglDnb5Jq"
      },
      "source": [
        "df = df[~df.isin([np.nan, np.inf, -np.inf]).any(1)]"
      ],
      "execution_count": 6,
      "outputs": []
    },
    {
      "cell_type": "code",
      "metadata": {
        "id": "-duCVxegb6Sz"
      },
      "source": [
        "train = df[0:1606]\n",
        "test = df[1607:]"
      ],
      "execution_count": 7,
      "outputs": []
    },
    {
      "cell_type": "code",
      "metadata": {
        "id": "m279XAf1cGYS"
      },
      "source": [
        "document_response = {}\n",
        "n = 0 \n",
        "for index, row in train.iterrows():\n",
        "    document_response[n] = row['Номер связки\\n']\n",
        "    n += 1"
      ],
      "execution_count": 8,
      "outputs": []
    },
    {
      "cell_type": "code",
      "metadata": {
        "id": "_nuItflHOant",
        "outputId": "8e5ff95e-b31b-4bb8-ca71-74d4cf8d14ec",
        "colab": {
          "base_uri": "https://localhost:8080/",
          "height": 393
        }
      },
      "source": [
        "df.head()"
      ],
      "execution_count": 9,
      "outputs": [
        {
          "output_type": "execute_result",
          "data": {
            "text/html": [
              "<div>\n",
              "<style scoped>\n",
              "    .dataframe tbody tr th:only-of-type {\n",
              "        vertical-align: middle;\n",
              "    }\n",
              "\n",
              "    .dataframe tbody tr th {\n",
              "        vertical-align: top;\n",
              "    }\n",
              "\n",
              "    .dataframe thead th {\n",
              "        text-align: right;\n",
              "    }\n",
              "</style>\n",
              "<table border=\"1\" class=\"dataframe\">\n",
              "  <thead>\n",
              "    <tr style=\"text-align: right;\">\n",
              "      <th></th>\n",
              "      <th>Текст вопроса</th>\n",
              "      <th>Номер связки\\n</th>\n",
              "      <th>Тематика</th>\n",
              "      <th>Без удаления NE</th>\n",
              "      <th>Deepmipt</th>\n",
              "    </tr>\n",
              "  </thead>\n",
              "  <tbody>\n",
              "    <tr>\n",
              "      <th>0</th>\n",
              "      <td>с уважением Вероника Игоревна  Ильич\\n\\nПосле ...</td>\n",
              "      <td>308.0</td>\n",
              "      <td>ЗАКРЫТИЕ ГРАНИЦ, ОТКРЫТИЕ ГРАНИЦ РОССИИ И АВИА...</td>\n",
              "      <td>уважение вероника игорь илья август год москва...</td>\n",
              "      <td>уважение август год планировать приехать гость...</td>\n",
              "    </tr>\n",
              "    <tr>\n",
              "      <th>1</th>\n",
              "      <td>Здравствуйте! Проинформируйте, пожалуйста, нуж...</td>\n",
              "      <td>324.0</td>\n",
              "      <td>ОРГАНИЗАЦИИ ОТДЫХА ДЕТЕЙ И ИХ ЗДОРОВЛЕНИЯ</td>\n",
              "      <td>здравствовать проинформировать пожалуйста нужн...</td>\n",
              "      <td>здравствовать проинформировать пожалуйста нужн...</td>\n",
              "    </tr>\n",
              "    <tr>\n",
              "      <th>2</th>\n",
              "      <td>--\\nДобрый день!\\n   Меня, Сидельникова Андрея...</td>\n",
              "      <td>57.0</td>\n",
              "      <td>БОЛЬНИЧНЫЙ ЛИСТ</td>\n",
              "      <td>добрый день сидельников андрей олег 30071989гр...</td>\n",
              "      <td>добрый день 1989г р посадить карантин контактн...</td>\n",
              "    </tr>\n",
              "    <tr>\n",
              "      <th>3</th>\n",
              "      <td>Добрый день.\\nВ Кемеровской области согласно п...</td>\n",
              "      <td>45.0</td>\n",
              "      <td>ШТРАФЫ, НОРМАТИВНЫЕ АКТЫ И РЕКОМЕНДАЦИИ</td>\n",
              "      <td>добрый день кемеровский область согласно поста...</td>\n",
              "      <td>добрый день согласно постановление необходимый...</td>\n",
              "    </tr>\n",
              "    <tr>\n",
              "      <th>4</th>\n",
              "      <td>Здравствуйте, в моем городе Кострома введено о...</td>\n",
              "      <td>3.0</td>\n",
              "      <td>ШТРАФЫ, НОРМАТИВНЫЕ АКТЫ И РЕКОМЕНДАЦИИ</td>\n",
              "      <td>здравствовать мыть город кострома ввести огран...</td>\n",
              "      <td>здравствовать мыть город ввести ограничение ра...</td>\n",
              "    </tr>\n",
              "  </tbody>\n",
              "</table>\n",
              "</div>"
            ],
            "text/plain": [
              "                                       Текст вопроса  ...                                           Deepmipt\n",
              "0  с уважением Вероника Игоревна  Ильич\\n\\nПосле ...  ...  уважение август год планировать приехать гость...\n",
              "1  Здравствуйте! Проинформируйте, пожалуйста, нуж...  ...  здравствовать проинформировать пожалуйста нужн...\n",
              "2  --\\nДобрый день!\\n   Меня, Сидельникова Андрея...  ...  добрый день 1989г р посадить карантин контактн...\n",
              "3  Добрый день.\\nВ Кемеровской области согласно п...  ...  добрый день согласно постановление необходимый...\n",
              "4  Здравствуйте, в моем городе Кострома введено о...  ...  здравствовать мыть город ввести ограничение ра...\n",
              "\n",
              "[5 rows x 5 columns]"
            ]
          },
          "metadata": {
            "tags": []
          },
          "execution_count": 9
        }
      ]
    },
    {
      "cell_type": "code",
      "metadata": {
        "id": "3YuA98JFQ1ez",
        "outputId": "d378d583-a907-43f8-e7ea-1f0449c755aa",
        "colab": {
          "base_uri": "https://localhost:8080/",
          "height": 228
        }
      },
      "source": [
        "!wget http://rusvectores.org/static/models/rusvectores4/fasttext/araneum_none_fasttextcbow_300_5_2018.tgz"
      ],
      "execution_count": 10,
      "outputs": [
        {
          "output_type": "stream",
          "text": [
            "--2020-10-18 12:22:28--  http://rusvectores.org/static/models/rusvectores4/fasttext/araneum_none_fasttextcbow_300_5_2018.tgz\n",
            "Resolving rusvectores.org (rusvectores.org)... 116.203.104.23\n",
            "Connecting to rusvectores.org (rusvectores.org)|116.203.104.23|:80... connected.\n",
            "HTTP request sent, awaiting response... 200 OK\n",
            "Length: 2691248108 (2.5G) [application/x-gzip]\n",
            "Saving to: ‘araneum_none_fasttextcbow_300_5_2018.tgz’\n",
            "\n",
            "araneum_none_fastte 100%[===================>]   2.51G  10.7MB/s    in 4m 10s  \n",
            "\n",
            "2020-10-18 12:26:40 (10.3 MB/s) - ‘araneum_none_fasttextcbow_300_5_2018.tgz’ saved [2691248108/2691248108]\n",
            "\n"
          ],
          "name": "stdout"
        }
      ]
    },
    {
      "cell_type": "code",
      "metadata": {
        "id": "HY---YgkRLaD",
        "outputId": "fdd8161c-7f7c-4f12-cc30-cd38b04839ec",
        "colab": {
          "base_uri": "https://localhost:8080/",
          "height": 87
        }
      },
      "source": [
        "!tar --gunzip --extract --verbose --file=araneum_none_fasttextcbow_300_5_2018.tgz"
      ],
      "execution_count": 11,
      "outputs": [
        {
          "output_type": "stream",
          "text": [
            "araneum_none_fasttextcbow_300_5_2018.model\n",
            "araneum_none_fasttextcbow_300_5_2018.model.vectors_ngrams.npy\n",
            "araneum_none_fasttextcbow_300_5_2018.model.vectors.npy\n",
            "araneum_none_fasttextcbow_300_5_2018.model.vectors_vocab.npy\n"
          ],
          "name": "stdout"
        }
      ]
    },
    {
      "cell_type": "code",
      "metadata": {
        "id": "UPVYOAy2O7f9"
      },
      "source": [
        "from gensim.models import Word2Vec, KeyedVectors"
      ],
      "execution_count": 10,
      "outputs": []
    },
    {
      "cell_type": "code",
      "metadata": {
        "id": "Ido1M02aO8cP"
      },
      "source": [
        "model_file = 'araneum_none_fasttextcbow_300_5_2018.model'\n",
        "model = KeyedVectors.load(model_file)"
      ],
      "execution_count": 11,
      "outputs": []
    },
    {
      "cell_type": "markdown",
      "metadata": {
        "id": "NIO0EgsPOrO5"
      },
      "source": [
        "# Классический способ"
      ]
    },
    {
      "cell_type": "code",
      "metadata": {
        "id": "-YMEcm9QqvW7"
      },
      "source": [
        "def normalize_vec(v):\n",
        "     return v / np.sqrt(np.sum(v ** 2))"
      ],
      "execution_count": 12,
      "outputs": []
    },
    {
      "cell_type": "code",
      "metadata": {
        "id": "SORIunHrqv37"
      },
      "source": [
        "def word2vec_vector(text: str):\n",
        "    lemmas = text.split()\n",
        "    lemmas_vectors = np.zeros((len(lemmas), model.vector_size))\n",
        "    vec = np.zeros((model.vector_size,))\n",
        "    # если слово есть в модели, берем его вектор\n",
        "    for idx, lemma in enumerate(lemmas):\n",
        "        if lemma in model:\n",
        "            lemmas_vectors[idx] = model[lemma]\n",
        "    \n",
        "    # проверка на случай, если на вход пришел пустой массив\n",
        "    if lemmas_vectors.shape[0] is not 0:\n",
        "        vec = np.mean(lemmas_vectors, axis=0)\n",
        "    \n",
        "    return vec"
      ],
      "execution_count": 13,
      "outputs": []
    },
    {
      "cell_type": "code",
      "metadata": {
        "id": "r2T2eahQq3PM"
      },
      "source": [
        "def counting_top(res):\n",
        "    d = {}\n",
        "    # создаем словарь, где ключ - индекс документа, значение - близость документа с запросом\n",
        "    index = 0\n",
        "    for doc in res:\n",
        "        d[index] = doc\n",
        "        index += 1\n",
        "    sorted_by_value = sorted(d.items(), key=lambda x: x[1], reverse=True)\n",
        "\n",
        "    return sorted_by_value[0][0]"
      ],
      "execution_count": 14,
      "outputs": []
    },
    {
      "cell_type": "markdown",
      "metadata": {
        "id": "RaOOV7a1KW0z"
      },
      "source": [
        "## Для данных без именованных сущностей"
      ]
    },
    {
      "cell_type": "code",
      "metadata": {
        "id": "LEd39DxsGxxI"
      },
      "source": [
        "corpus = train['Deepmipt']\n",
        "answers = test['Deepmipt']"
      ],
      "execution_count": 15,
      "outputs": []
    },
    {
      "cell_type": "code",
      "metadata": {
        "id": "Kc0lGMKwILBa"
      },
      "source": [
        "corpus_vectors = np.array([normalize_vec(word2vec_vector(text)) for text in corpus])"
      ],
      "execution_count": 16,
      "outputs": []
    },
    {
      "cell_type": "code",
      "metadata": {
        "id": "6Ou9eCHCSix3"
      },
      "source": [
        "answers_vectors = [normalize_vec(word2vec_vector(text)) for text in answers]"
      ],
      "execution_count": 17,
      "outputs": []
    },
    {
      "cell_type": "code",
      "metadata": {
        "id": "ObrzIUawIazq"
      },
      "source": [
        "best_docs = []\n",
        "for ans in answers_vectors:\n",
        "    res = np.dot(corpus_vectors, np.array(ans))\n",
        "    res = res.tolist()\n",
        "    best_docs.append(counting_top(res))"
      ],
      "execution_count": 18,
      "outputs": []
    },
    {
      "cell_type": "code",
      "metadata": {
        "id": "g8aRpBcsJ9be"
      },
      "source": [
        "test['deepmipt_vectors'] = [document_response[n] for n in best_docs]"
      ],
      "execution_count": 19,
      "outputs": []
    },
    {
      "cell_type": "markdown",
      "metadata": {
        "id": "88hPOH5MK1EU"
      },
      "source": [
        "## Для данных с именованными сущностями"
      ]
    },
    {
      "cell_type": "code",
      "metadata": {
        "id": "aLOtSHxmLOaT"
      },
      "source": [
        "corpus = train['Без удаления NE']\n",
        "answers = test['Без удаления NE']"
      ],
      "execution_count": 20,
      "outputs": []
    },
    {
      "cell_type": "code",
      "metadata": {
        "id": "GuMM8kCQLWKY"
      },
      "source": [
        "corpus_vectors = np.array([normalize_vec(word2vec_vector(text)) for text in corpus])"
      ],
      "execution_count": 21,
      "outputs": []
    },
    {
      "cell_type": "code",
      "metadata": {
        "id": "OhLWlV3-LWsJ"
      },
      "source": [
        "answers_vectors = [normalize_vec(word2vec_vector(text)) for text in answers]"
      ],
      "execution_count": 22,
      "outputs": []
    },
    {
      "cell_type": "code",
      "metadata": {
        "id": "JAr5Fh31LWvi"
      },
      "source": [
        "best_docs = []\n",
        "for ans in answers_vectors:\n",
        "    res = np.dot(corpus_vectors, np.array(ans))\n",
        "    res = res.tolist()\n",
        "    best_docs.append(counting_top(res))"
      ],
      "execution_count": 23,
      "outputs": []
    },
    {
      "cell_type": "code",
      "metadata": {
        "id": "SB174lktLWzM"
      },
      "source": [
        "test['withNE_vectors'] = [document_response[n] for n in best_docs]"
      ],
      "execution_count": 24,
      "outputs": []
    },
    {
      "cell_type": "markdown",
      "metadata": {
        "id": "D9MysnZqOw67"
      },
      "source": [
        "# Экспериментальный способ"
      ]
    },
    {
      "cell_type": "code",
      "metadata": {
        "id": "36lm6LqFMa6B"
      },
      "source": [
        "def word2vec_matrix(text):\n",
        "    lemmas = text.split()\n",
        "    lemmas_vectors = np.zeros((len(lemmas), model.vector_size))\n",
        "    vec = np.zeros((model.vector_size,))\n",
        "\n",
        "    for idx, lemma in enumerate(lemmas):\n",
        "        if lemma in model.wv:\n",
        "            lemmas_vectors[idx] = normalize_vec(model.wv[lemma])\n",
        "            \n",
        "    return lemmas_vectors   "
      ],
      "execution_count": 25,
      "outputs": []
    },
    {
      "cell_type": "code",
      "metadata": {
        "id": "ku_aNy4YrA1P"
      },
      "source": [
        "def search(docs, query, reduce_func=np.max, axis=0):\n",
        "    sims = []\n",
        "    for doc in docs:\n",
        "        sim = doc.dot(query.T)\n",
        "        sim = reduce_func(sim, axis=axis)\n",
        "        sims.append(sim.sum())\n",
        "    return np.argmax(sims)"
      ],
      "execution_count": 26,
      "outputs": []
    },
    {
      "cell_type": "markdown",
      "metadata": {
        "id": "kiuOPWoTK7an"
      },
      "source": [
        "## Для данных без именованных сущностей"
      ]
    },
    {
      "cell_type": "code",
      "metadata": {
        "id": "IPim8JOFOzI0"
      },
      "source": [
        "corpus = train['Deepmipt']\n",
        "answers = test['Deepmipt']"
      ],
      "execution_count": 27,
      "outputs": []
    },
    {
      "cell_type": "code",
      "metadata": {
        "id": "f6JQddE0R77-"
      },
      "source": [
        "corpus_matrix = np.array([word2vec_matrix(text) for text in corpus])"
      ],
      "execution_count": 28,
      "outputs": []
    },
    {
      "cell_type": "code",
      "metadata": {
        "id": "WlRogVtgSR_L"
      },
      "source": [
        "answers_matrix = [word2vec_matrix(text) for text in answers]"
      ],
      "execution_count": 29,
      "outputs": []
    },
    {
      "cell_type": "code",
      "metadata": {
        "id": "9sidGIzSVK36"
      },
      "source": [
        "best_docs = []\n",
        "for ans in answers_matrix:\n",
        "    best_docs.append(search(corpus_matrix, ans))"
      ],
      "execution_count": 30,
      "outputs": []
    },
    {
      "cell_type": "code",
      "metadata": {
        "id": "hVal9Rv6SWq0"
      },
      "source": [
        "test['deepmipt_matrix'] = [document_response[n] for n in best_docs]"
      ],
      "execution_count": 31,
      "outputs": []
    },
    {
      "cell_type": "markdown",
      "metadata": {
        "id": "NSPNl49LLDDJ"
      },
      "source": [
        "## Для данных с именованными сущностями"
      ]
    },
    {
      "cell_type": "code",
      "metadata": {
        "id": "ODaXYbd0Y9gS"
      },
      "source": [
        "corpus = train['Без удаления NE']\n",
        "answers = test['Без удаления NE']"
      ],
      "execution_count": 32,
      "outputs": []
    },
    {
      "cell_type": "code",
      "metadata": {
        "id": "cF5L60d8Y9jY"
      },
      "source": [
        "corpus_matrix = np.array([word2vec_matrix(text) for text in corpus])"
      ],
      "execution_count": 33,
      "outputs": []
    },
    {
      "cell_type": "code",
      "metadata": {
        "id": "f4wD7G7iY9ox"
      },
      "source": [
        "answers_matrix = [word2vec_matrix(text) for text in answers]"
      ],
      "execution_count": 34,
      "outputs": []
    },
    {
      "cell_type": "code",
      "metadata": {
        "id": "QHBLQ60UY9mw"
      },
      "source": [
        "best_docs = []\n",
        "for ans in answers_matrix:\n",
        "    best_docs.append(search(corpus_matrix, ans))"
      ],
      "execution_count": 35,
      "outputs": []
    },
    {
      "cell_type": "code",
      "metadata": {
        "id": "8xbgoD6PZPoM"
      },
      "source": [
        "test['withNE_matrix'] = [document_response[n] for n in best_docs]"
      ],
      "execution_count": 36,
      "outputs": []
    },
    {
      "cell_type": "code",
      "metadata": {
        "id": "oSTatU_YZtU_",
        "outputId": "f9afb4d7-cd8f-43e1-c748-ac64751c32fc",
        "colab": {
          "base_uri": "https://localhost:8080/",
          "height": 638
        }
      },
      "source": [
        "test.head()"
      ],
      "execution_count": 37,
      "outputs": [
        {
          "output_type": "execute_result",
          "data": {
            "text/html": [
              "<div>\n",
              "<style scoped>\n",
              "    .dataframe tbody tr th:only-of-type {\n",
              "        vertical-align: middle;\n",
              "    }\n",
              "\n",
              "    .dataframe tbody tr th {\n",
              "        vertical-align: top;\n",
              "    }\n",
              "\n",
              "    .dataframe thead th {\n",
              "        text-align: right;\n",
              "    }\n",
              "</style>\n",
              "<table border=\"1\" class=\"dataframe\">\n",
              "  <thead>\n",
              "    <tr style=\"text-align: right;\">\n",
              "      <th></th>\n",
              "      <th>Текст вопроса</th>\n",
              "      <th>Номер связки\\n</th>\n",
              "      <th>Тематика</th>\n",
              "      <th>Без удаления NE</th>\n",
              "      <th>Deepmipt</th>\n",
              "      <th>deepmipt_vectors</th>\n",
              "      <th>withNE_vectors</th>\n",
              "      <th>deepmipt_matrix</th>\n",
              "      <th>withNE_matrix</th>\n",
              "    </tr>\n",
              "  </thead>\n",
              "  <tbody>\n",
              "    <tr>\n",
              "      <th>1613</th>\n",
              "      <td>Здравствуйте. меня зовут Елизавета Николаевна ...</td>\n",
              "      <td>257.0</td>\n",
              "      <td>ОКАЗАНИЕ МЕДИЦИНСКОЙ ПОМОЩИ, ГОТОВНОСТЬ СТАЦИО...</td>\n",
              "      <td>здравствовать звать елизавета николай поздняк ...</td>\n",
              "      <td>здравствовать звать 1987г р август сообщить по...</td>\n",
              "      <td>32.0</td>\n",
              "      <td>32.0</td>\n",
              "      <td>37.0</td>\n",
              "      <td>37.0</td>\n",
              "    </tr>\n",
              "    <tr>\n",
              "      <th>1614</th>\n",
              "      <td>То есть, если я пересекаю границу на машине, в...</td>\n",
              "      <td>308.0</td>\n",
              "      <td>ЗАКРЫТИЕ ГРАНИЦ, ОТКРЫТИЕ ГРАНИЦ РОССИИ И АВИА...</td>\n",
              "      <td>пересекать граница машина весь равно нужно сда...</td>\n",
              "      <td>пересекать граница машина весь равно нужно сда...</td>\n",
              "      <td>308.0</td>\n",
              "      <td>308.0</td>\n",
              "      <td>308.0</td>\n",
              "      <td>308.0</td>\n",
              "    </tr>\n",
              "    <tr>\n",
              "      <th>1615</th>\n",
              "      <td>Добрый день. Подскажите, пожалуйста, нужно ли ...</td>\n",
              "      <td>308.0</td>\n",
              "      <td>ЗАКРЫТИЕ ГРАНИЦ, ОТКРЫТИЕ ГРАНИЦ РОССИИ И АВИА...</td>\n",
              "      <td>добрый день подсказать пожалуйста нужно турист...</td>\n",
              "      <td>добрый день подсказать пожалуйста нужно турист...</td>\n",
              "      <td>308.0</td>\n",
              "      <td>308.0</td>\n",
              "      <td>308.0</td>\n",
              "      <td>308.0</td>\n",
              "    </tr>\n",
              "    <tr>\n",
              "      <th>1616</th>\n",
              "      <td>Добрый день!\\nМеня зовут Азиза. Я гражданка Ка...</td>\n",
              "      <td>308.0</td>\n",
              "      <td>ЗАКРЫТИЕ ГРАНИЦ, ОТКРЫТИЕ ГРАНИЦ РОССИИ И АВИА...</td>\n",
              "      <td>добрый день звать азиз гражданка казахстан про...</td>\n",
              "      <td>добрый день звать гражданка проживать супруг г...</td>\n",
              "      <td>308.0</td>\n",
              "      <td>308.0</td>\n",
              "      <td>308.0</td>\n",
              "      <td>308.0</td>\n",
              "    </tr>\n",
              "    <tr>\n",
              "      <th>1617</th>\n",
              "      <td>Добрый день! Мы подрядная организация, занимае...</td>\n",
              "      <td>37.0</td>\n",
              "      <td>ОГРАНИЧЕНИЯ, ПРОПУСКНАЯ СИСТЕМА И ПЕРЕМЕЩЕНИЕ ...</td>\n",
              "      <td>добрый день подрядный организация заниматься к...</td>\n",
              "      <td>добрый день подрядный организация заниматься к...</td>\n",
              "      <td>135.0</td>\n",
              "      <td>37.0</td>\n",
              "      <td>308.0</td>\n",
              "      <td>308.0</td>\n",
              "    </tr>\n",
              "  </tbody>\n",
              "</table>\n",
              "</div>"
            ],
            "text/plain": [
              "                                          Текст вопроса  ...  withNE_matrix\n",
              "1613  Здравствуйте. меня зовут Елизавета Николаевна ...  ...           37.0\n",
              "1614  То есть, если я пересекаю границу на машине, в...  ...          308.0\n",
              "1615  Добрый день. Подскажите, пожалуйста, нужно ли ...  ...          308.0\n",
              "1616  Добрый день!\\nМеня зовут Азиза. Я гражданка Ка...  ...          308.0\n",
              "1617  Добрый день! Мы подрядная организация, занимае...  ...          308.0\n",
              "\n",
              "[5 rows x 9 columns]"
            ]
          },
          "metadata": {
            "tags": []
          },
          "execution_count": 37
        }
      ]
    },
    {
      "cell_type": "markdown",
      "metadata": {
        "id": "Szlc0T7FLzjP"
      },
      "source": [
        "# Accuracy"
      ]
    },
    {
      "cell_type": "code",
      "metadata": {
        "id": "qIh_YpSDZWCk"
      },
      "source": [
        "from prettytable import PrettyTable\n",
        "from sklearn.metrics import accuracy_score"
      ],
      "execution_count": 38,
      "outputs": []
    },
    {
      "cell_type": "code",
      "metadata": {
        "id": "xmdQ3jEXZW_A",
        "outputId": "447786f8-d5ea-4b87-f6f6-59011f551794",
        "colab": {
          "base_uri": "https://localhost:8080/",
          "height": 121
        }
      },
      "source": [
        "acc_withne_vectors = accuracy_score(test['Номер связки\\n'], test['withNE_vectors'])\n",
        "acc_deepmipt_vectors = accuracy_score(test['Номер связки\\n'], test['deepmipt_vectors'])\n",
        "acc_withne_matrix = accuracy_score(test['Номер связки\\n'], test['withNE_matrix'])\n",
        "acc_deepmipt_matrix = accuracy_score(test['Номер связки\\n'], test['deepmipt_matrix'])\n",
        "\n",
        "x = PrettyTable()\n",
        "x.field_names = [' ', 'С удалением NE', 'Без удаления NE']\n",
        "x.add_row(['vector', acc_deepmipt_vectors, acc_withne_vectors])\n",
        "x.add_row(['matrix', acc_deepmipt_matrix, acc_withne_matrix])\n",
        "print(x)"
      ],
      "execution_count": 39,
      "outputs": [
        {
          "output_type": "stream",
          "text": [
            "+--------+---------------------+--------------------+\n",
            "|        |    С удалением NE   |  Без удаления NE   |\n",
            "+--------+---------------------+--------------------+\n",
            "| vector |  0.5095729013254786 | 0.5390279823269514 |\n",
            "| matrix | 0.40942562592047127 | 0.4270986745213549 |\n",
            "+--------+---------------------+--------------------+\n"
          ],
          "name": "stdout"
        }
      ]
    }
  ]
}