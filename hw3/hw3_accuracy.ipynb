{
  "nbformat": 4,
  "nbformat_minor": 0,
  "metadata": {
    "colab": {
      "name": "hw3_accuracy.ipynb",
      "provenance": [],
      "toc_visible": true,
      "authorship_tag": "ABX9TyOJ/u7GlzSq/ohvap5KyV2a"
    },
    "kernelspec": {
      "name": "python3",
      "display_name": "Python 3"
    }
  },
  "cells": [
    {
      "cell_type": "code",
      "metadata": {
        "id": "5zLBYvbpHRzR"
      },
      "source": [
        "import pandas as pd\n",
        "import numpy as np\n",
        "from sklearn.model_selection import train_test_split\n",
        "from sklearn.feature_extraction.text import TfidfVectorizer\n",
        "from typing import Any\n",
        "from math import log"
      ],
      "execution_count": 1,
      "outputs": []
    },
    {
      "cell_type": "code",
      "metadata": {
        "id": "LcUhZJ82HZr5"
      },
      "source": [
        "df = pd.read_csv('queries_base_result.csv')"
      ],
      "execution_count": 3,
      "outputs": []
    },
    {
      "cell_type": "code",
      "metadata": {
        "id": "Mjkji2aoHpPG"
      },
      "source": [
        "df = df[~df.isin([np.nan, np.inf, -np.inf]).any(1)]"
      ],
      "execution_count": 4,
      "outputs": []
    },
    {
      "cell_type": "code",
      "metadata": {
        "id": "yMero5ZqHs3-"
      },
      "source": [
        "train = df[0:1606]\n",
        "test = df[1607:]"
      ],
      "execution_count": 5,
      "outputs": []
    },
    {
      "cell_type": "code",
      "metadata": {
        "id": "sMyfO2BhHu5n"
      },
      "source": [
        "document_response = {}\n",
        "for index, row in train.iterrows():\n",
        "    document_response[index] = row['Номер связки\\n']"
      ],
      "execution_count": 6,
      "outputs": []
    },
    {
      "cell_type": "markdown",
      "metadata": {
        "id": "C30jfs_bHyKE"
      },
      "source": [
        "# Для natasha"
      ]
    },
    {
      "cell_type": "code",
      "metadata": {
        "id": "wg0GxrxcH0KF"
      },
      "source": [
        "corpus = train['Natasha']\n",
        "answers = test['Natasha']"
      ],
      "execution_count": 7,
      "outputs": []
    },
    {
      "cell_type": "code",
      "metadata": {
        "id": "DHJwAxq_H2hc"
      },
      "source": [
        "vectorizer = TfidfVectorizer()\n",
        "X = vectorizer.fit_transform(corpus.values.astype(str)).toarray()"
      ],
      "execution_count": 8,
      "outputs": []
    },
    {
      "cell_type": "code",
      "metadata": {
        "id": "XoVXOytLH2ok"
      },
      "source": [
        "def vector_tfidf(query: str, vectorizer: Any) -> Any:\n",
        "    new_query = []\n",
        "    for word in query.split():\n",
        "        if word in vectorizer.vocabulary_.keys():\n",
        "            new_query.append(word)\n",
        "    if len(new_query) == 0:\n",
        "        new_query.append(' ')\n",
        "    return vectorizer.transform(new_query).toarray()"
      ],
      "execution_count": 9,
      "outputs": []
    },
    {
      "cell_type": "code",
      "metadata": {
        "id": "4aAhxjuZH2uM"
      },
      "source": [
        "def counting_top(res):\n",
        "    d = {}\n",
        "    # создаем словарь, где ключ - индекс документа, значение - близость документа с запросом\n",
        "    index = 0\n",
        "    for doc in res:\n",
        "        d[index] = doc\n",
        "        index += 1\n",
        "    sorted_by_value = sorted(d.items(), key=lambda x: x[1], reverse=True)\n",
        "\n",
        "    return sorted_by_value[0][0]"
      ],
      "execution_count": 10,
      "outputs": []
    },
    {
      "cell_type": "code",
      "metadata": {
        "id": "A1KSFsfNH-CJ"
      },
      "source": [
        "best_docs = []\n",
        "for ans in answers:\n",
        "    vector_query = vector_tfidf(ans, vectorizer)\n",
        "    res = np.dot(X, vector_query[0])\n",
        "    res = res.tolist()\n",
        "    best_docs.append(counting_top(res))"
      ],
      "execution_count": 11,
      "outputs": []
    },
    {
      "cell_type": "code",
      "metadata": {
        "id": "UCdh5ZXZIC2V",
        "outputId": "609ac108-a0ad-4fca-c5fd-39ac2043eeb0",
        "colab": {
          "base_uri": "https://localhost:8080/",
          "height": 141
        }
      },
      "source": [
        "test['natasha_tfidf'] = [document_response[n] for n in best_docs]"
      ],
      "execution_count": 12,
      "outputs": [
        {
          "output_type": "stream",
          "text": [
            "/usr/local/lib/python3.6/dist-packages/ipykernel_launcher.py:1: SettingWithCopyWarning: \n",
            "A value is trying to be set on a copy of a slice from a DataFrame.\n",
            "Try using .loc[row_indexer,col_indexer] = value instead\n",
            "\n",
            "See the caveats in the documentation: https://pandas.pydata.org/pandas-docs/stable/user_guide/indexing.html#returning-a-view-versus-a-copy\n",
            "  \"\"\"Entry point for launching an IPython kernel.\n"
          ],
          "name": "stderr"
        }
      ]
    },
    {
      "cell_type": "code",
      "metadata": {
        "id": "KmbZXWNOUruO"
      },
      "source": [
        "from rank_bm25 import BM25Okapi"
      ],
      "execution_count": 16,
      "outputs": []
    },
    {
      "cell_type": "code",
      "metadata": {
        "id": "tbnlpWb9V7Ke"
      },
      "source": [
        "bm25 = BM25Okapi(corpus)"
      ],
      "execution_count": 17,
      "outputs": []
    },
    {
      "cell_type": "code",
      "metadata": {
        "id": "xZucZ2OWfxEz"
      },
      "source": [
        "best_docs = []\n",
        "for ans in answers:\n",
        "    best_doc = bm25.get_top_n(ans, corpus, n=1)[0]\n",
        "    best_docs.append(corpus.tolist().index(best_doc))"
      ],
      "execution_count": 18,
      "outputs": []
    },
    {
      "cell_type": "code",
      "metadata": {
        "id": "9EpG69oRgsD3",
        "outputId": "0eda66c2-c7a7-48ff-d6d8-7010bdc5acda",
        "colab": {
          "base_uri": "https://localhost:8080/",
          "height": 141
        }
      },
      "source": [
        "test['natasha_bm25'] = [document_response[n] for n in best_docs]"
      ],
      "execution_count": 19,
      "outputs": [
        {
          "output_type": "stream",
          "text": [
            "/usr/local/lib/python3.6/dist-packages/ipykernel_launcher.py:1: SettingWithCopyWarning: \n",
            "A value is trying to be set on a copy of a slice from a DataFrame.\n",
            "Try using .loc[row_indexer,col_indexer] = value instead\n",
            "\n",
            "See the caveats in the documentation: https://pandas.pydata.org/pandas-docs/stable/user_guide/indexing.html#returning-a-view-versus-a-copy\n",
            "  \"\"\"Entry point for launching an IPython kernel.\n"
          ],
          "name": "stderr"
        }
      ]
    },
    {
      "cell_type": "markdown",
      "metadata": {
        "id": "pBYxAMfthG3t"
      },
      "source": [
        "# Для deepmipt"
      ]
    },
    {
      "cell_type": "code",
      "metadata": {
        "id": "5BKf3vnXhI9m"
      },
      "source": [
        "corpus = train['Deepmipt']\n",
        "answers = test['Deepmipt']"
      ],
      "execution_count": 20,
      "outputs": []
    },
    {
      "cell_type": "code",
      "metadata": {
        "id": "uieD6s2ZhMQh"
      },
      "source": [
        "vectorizer = TfidfVectorizer()\n",
        "X = vectorizer.fit_transform(corpus.values.astype(str)).toarray()"
      ],
      "execution_count": 21,
      "outputs": []
    },
    {
      "cell_type": "code",
      "metadata": {
        "id": "IDwHEXCwh3jB"
      },
      "source": [
        "best_docs = []\n",
        "for ans in answers:\n",
        "    vector_query = vector_tfidf(ans, vectorizer)\n",
        "    res = np.dot(X, vector_query[0])\n",
        "    res = res.tolist()\n",
        "    best_docs.append(counting_top(res))"
      ],
      "execution_count": 22,
      "outputs": []
    },
    {
      "cell_type": "code",
      "metadata": {
        "id": "1Tgghde2h4fS",
        "outputId": "cb9f12db-cc8f-40cb-9c49-dfe5f3f6af3e",
        "colab": {
          "base_uri": "https://localhost:8080/",
          "height": 141
        }
      },
      "source": [
        "test['deepmipt_tfidf'] = [document_response[n] for n in best_docs]"
      ],
      "execution_count": 23,
      "outputs": [
        {
          "output_type": "stream",
          "text": [
            "/usr/local/lib/python3.6/dist-packages/ipykernel_launcher.py:1: SettingWithCopyWarning: \n",
            "A value is trying to be set on a copy of a slice from a DataFrame.\n",
            "Try using .loc[row_indexer,col_indexer] = value instead\n",
            "\n",
            "See the caveats in the documentation: https://pandas.pydata.org/pandas-docs/stable/user_guide/indexing.html#returning-a-view-versus-a-copy\n",
            "  \"\"\"Entry point for launching an IPython kernel.\n"
          ],
          "name": "stderr"
        }
      ]
    },
    {
      "cell_type": "code",
      "metadata": {
        "id": "l5Z3buH5iJxW"
      },
      "source": [
        "bm25 = BM25Okapi(corpus)"
      ],
      "execution_count": 24,
      "outputs": []
    },
    {
      "cell_type": "code",
      "metadata": {
        "id": "dg8ZEu4ZiPtR"
      },
      "source": [
        "best_docs = []\n",
        "for ans in answers:\n",
        "    best_doc = bm25.get_top_n(ans, corpus, n=1)[0]\n",
        "    best_docs.append(corpus.tolist().index(best_doc))"
      ],
      "execution_count": 25,
      "outputs": []
    },
    {
      "cell_type": "code",
      "metadata": {
        "id": "FxIGSNI2iQCk",
        "outputId": "739db22d-e256-4031-fb3a-22d45ccc1010",
        "colab": {
          "base_uri": "https://localhost:8080/",
          "height": 141
        }
      },
      "source": [
        "test['deepmipt_bm25'] = [document_response[n] for n in best_docs]"
      ],
      "execution_count": 26,
      "outputs": [
        {
          "output_type": "stream",
          "text": [
            "/usr/local/lib/python3.6/dist-packages/ipykernel_launcher.py:1: SettingWithCopyWarning: \n",
            "A value is trying to be set on a copy of a slice from a DataFrame.\n",
            "Try using .loc[row_indexer,col_indexer] = value instead\n",
            "\n",
            "See the caveats in the documentation: https://pandas.pydata.org/pandas-docs/stable/user_guide/indexing.html#returning-a-view-versus-a-copy\n",
            "  \"\"\"Entry point for launching an IPython kernel.\n"
          ],
          "name": "stderr"
        }
      ]
    },
    {
      "cell_type": "markdown",
      "metadata": {
        "id": "GSNDGgM6jKgH"
      },
      "source": [
        "# Без удаления именованных сущностей"
      ]
    },
    {
      "cell_type": "code",
      "metadata": {
        "id": "zuATLh8bjKEw"
      },
      "source": [
        "corpus = train['Без удаления NE']\n",
        "answers = test['Без удаления NE']"
      ],
      "execution_count": 28,
      "outputs": []
    },
    {
      "cell_type": "code",
      "metadata": {
        "id": "kz6cW2e5jmvZ"
      },
      "source": [
        "vectorizer = TfidfVectorizer()\n",
        "X = vectorizer.fit_transform(corpus.values.astype(str)).toarray()"
      ],
      "execution_count": 29,
      "outputs": []
    },
    {
      "cell_type": "code",
      "metadata": {
        "id": "pMU8FRTbjnyI"
      },
      "source": [
        "best_docs = []\n",
        "for ans in answers:\n",
        "    vector_query = vector_tfidf(ans, vectorizer)\n",
        "    res = np.dot(X, vector_query[0])\n",
        "    res = res.tolist()\n",
        "    best_docs.append(counting_top(res))"
      ],
      "execution_count": 30,
      "outputs": []
    },
    {
      "cell_type": "code",
      "metadata": {
        "id": "VH-Kt-lcjwpi",
        "outputId": "4a9f78d6-2b80-4dbe-c2e4-1b451a8dc1b6",
        "colab": {
          "base_uri": "https://localhost:8080/",
          "height": 141
        }
      },
      "source": [
        "test['nopreproc'] = [document_response[n] for n in best_docs]"
      ],
      "execution_count": 31,
      "outputs": [
        {
          "output_type": "stream",
          "text": [
            "/usr/local/lib/python3.6/dist-packages/ipykernel_launcher.py:1: SettingWithCopyWarning: \n",
            "A value is trying to be set on a copy of a slice from a DataFrame.\n",
            "Try using .loc[row_indexer,col_indexer] = value instead\n",
            "\n",
            "See the caveats in the documentation: https://pandas.pydata.org/pandas-docs/stable/user_guide/indexing.html#returning-a-view-versus-a-copy\n",
            "  \"\"\"Entry point for launching an IPython kernel.\n"
          ],
          "name": "stderr"
        }
      ]
    },
    {
      "cell_type": "code",
      "metadata": {
        "id": "_oNmBAOnj7Hz"
      },
      "source": [
        "bm25 = BM25Okapi(corpus)"
      ],
      "execution_count": 32,
      "outputs": []
    },
    {
      "cell_type": "code",
      "metadata": {
        "id": "qDPLYljXj7Sx"
      },
      "source": [
        "best_docs = []\n",
        "for ans in answers:\n",
        "    best_doc = bm25.get_top_n(ans, corpus, n=1)[0]\n",
        "    best_docs.append(corpus.tolist().index(best_doc))"
      ],
      "execution_count": 33,
      "outputs": []
    },
    {
      "cell_type": "code",
      "metadata": {
        "id": "H6KiSHSsj7WA",
        "outputId": "2d35bcd7-c495-4ac8-e5fb-8d7547d435ea",
        "colab": {
          "base_uri": "https://localhost:8080/",
          "height": 141
        }
      },
      "source": [
        "test['nopreproc_bm25'] = [document_response[n] for n in best_docs]"
      ],
      "execution_count": 34,
      "outputs": [
        {
          "output_type": "stream",
          "text": [
            "/usr/local/lib/python3.6/dist-packages/ipykernel_launcher.py:1: SettingWithCopyWarning: \n",
            "A value is trying to be set on a copy of a slice from a DataFrame.\n",
            "Try using .loc[row_indexer,col_indexer] = value instead\n",
            "\n",
            "See the caveats in the documentation: https://pandas.pydata.org/pandas-docs/stable/user_guide/indexing.html#returning-a-view-versus-a-copy\n",
            "  \"\"\"Entry point for launching an IPython kernel.\n"
          ],
          "name": "stderr"
        }
      ]
    },
    {
      "cell_type": "markdown",
      "metadata": {
        "id": "WchGlyFfkRYe"
      },
      "source": [
        "# Для natasha + новое правило"
      ]
    },
    {
      "cell_type": "code",
      "metadata": {
        "id": "tUZqSY0kkVWK"
      },
      "source": [
        "corpus = train['Natasha + new rule']\n",
        "answers = test['Natasha + new rule']"
      ],
      "execution_count": 35,
      "outputs": []
    },
    {
      "cell_type": "code",
      "metadata": {
        "id": "ROpLegF_kViv"
      },
      "source": [
        "vectorizer = TfidfVectorizer()\n",
        "X = vectorizer.fit_transform(corpus.values.astype(str)).toarray()"
      ],
      "execution_count": 36,
      "outputs": []
    },
    {
      "cell_type": "code",
      "metadata": {
        "id": "1_HWeVVTkVpV"
      },
      "source": [
        "best_docs = []\n",
        "for ans in answers:\n",
        "    vector_query = vector_tfidf(ans, vectorizer)\n",
        "    res = np.dot(X, vector_query[0])\n",
        "    res = res.tolist()\n",
        "    best_docs.append(counting_top(res))"
      ],
      "execution_count": 37,
      "outputs": []
    },
    {
      "cell_type": "code",
      "metadata": {
        "id": "gzdyFgDqkm_9",
        "outputId": "abd31e73-376a-424d-e0bd-c8032dcf8e5c",
        "colab": {
          "base_uri": "https://localhost:8080/",
          "height": 0
        }
      },
      "source": [
        "test['natasha_date_tfidf'] = [document_response[n] for n in best_docs]"
      ],
      "execution_count": 38,
      "outputs": [
        {
          "output_type": "stream",
          "text": [
            "/usr/local/lib/python3.6/dist-packages/ipykernel_launcher.py:1: SettingWithCopyWarning: \n",
            "A value is trying to be set on a copy of a slice from a DataFrame.\n",
            "Try using .loc[row_indexer,col_indexer] = value instead\n",
            "\n",
            "See the caveats in the documentation: https://pandas.pydata.org/pandas-docs/stable/user_guide/indexing.html#returning-a-view-versus-a-copy\n",
            "  \"\"\"Entry point for launching an IPython kernel.\n"
          ],
          "name": "stderr"
        }
      ]
    },
    {
      "cell_type": "code",
      "metadata": {
        "id": "TGA7xspUlG-L"
      },
      "source": [
        "bm25 = BM25Okapi(corpus)"
      ],
      "execution_count": 39,
      "outputs": []
    },
    {
      "cell_type": "code",
      "metadata": {
        "id": "ZUESmaPulIaA"
      },
      "source": [
        "best_docs = []\n",
        "for ans in answers:\n",
        "    best_doc = bm25.get_top_n(ans, corpus, n=1)[0]\n",
        "    best_docs.append(corpus.tolist().index(best_doc))"
      ],
      "execution_count": 40,
      "outputs": []
    },
    {
      "cell_type": "code",
      "metadata": {
        "id": "LEkOZ-J0lIjL",
        "outputId": "6b514c66-5ebd-499c-adc7-59a559f383d9",
        "colab": {
          "base_uri": "https://localhost:8080/",
          "height": 0
        }
      },
      "source": [
        "test['natasha_date_bm25'] = [document_response[n] for n in best_docs]"
      ],
      "execution_count": 41,
      "outputs": [
        {
          "output_type": "stream",
          "text": [
            "/usr/local/lib/python3.6/dist-packages/ipykernel_launcher.py:1: SettingWithCopyWarning: \n",
            "A value is trying to be set on a copy of a slice from a DataFrame.\n",
            "Try using .loc[row_indexer,col_indexer] = value instead\n",
            "\n",
            "See the caveats in the documentation: https://pandas.pydata.org/pandas-docs/stable/user_guide/indexing.html#returning-a-view-versus-a-copy\n",
            "  \"\"\"Entry point for launching an IPython kernel.\n"
          ],
          "name": "stderr"
        }
      ]
    },
    {
      "cell_type": "code",
      "metadata": {
        "id": "v4sWIFjRlUfC",
        "outputId": "51dd0366-99b2-40ee-e2f6-60872e54cb42",
        "colab": {
          "base_uri": "https://localhost:8080/",
          "height": 0
        }
      },
      "source": [
        "test.head()"
      ],
      "execution_count": 42,
      "outputs": [
        {
          "output_type": "execute_result",
          "data": {
            "text/html": [
              "<div>\n",
              "<style scoped>\n",
              "    .dataframe tbody tr th:only-of-type {\n",
              "        vertical-align: middle;\n",
              "    }\n",
              "\n",
              "    .dataframe tbody tr th {\n",
              "        vertical-align: top;\n",
              "    }\n",
              "\n",
              "    .dataframe thead th {\n",
              "        text-align: right;\n",
              "    }\n",
              "</style>\n",
              "<table border=\"1\" class=\"dataframe\">\n",
              "  <thead>\n",
              "    <tr style=\"text-align: right;\">\n",
              "      <th></th>\n",
              "      <th>Unnamed: 0</th>\n",
              "      <th>Unnamed: 0.1</th>\n",
              "      <th>Текст вопроса</th>\n",
              "      <th>Номер связки\\n</th>\n",
              "      <th>Тематика</th>\n",
              "      <th>Без удаления NE</th>\n",
              "      <th>Natasha</th>\n",
              "      <th>Deepmipt</th>\n",
              "      <th>Natasha + new rule</th>\n",
              "      <th>natasha_tfidf</th>\n",
              "      <th>natasha_bm25</th>\n",
              "      <th>deepmipt_tfidf</th>\n",
              "      <th>deepmipt_bm25</th>\n",
              "      <th>nopreproc</th>\n",
              "      <th>nopreproc_bm25</th>\n",
              "      <th>natasha_date_tfidf</th>\n",
              "      <th>natasha_date_bm25</th>\n",
              "    </tr>\n",
              "  </thead>\n",
              "  <tbody>\n",
              "    <tr>\n",
              "      <th>1613</th>\n",
              "      <td>1613</td>\n",
              "      <td>1617</td>\n",
              "      <td>Здравствуйте. меня зовут Елизавета Николаевна ...</td>\n",
              "      <td>257.0</td>\n",
              "      <td>ОКАЗАНИЕ МЕДИЦИНСКОЙ ПОМОЩИ, ГОТОВНОСТЬ СТАЦИО...</td>\n",
              "      <td>здравствовать звать елизавета николай поздняк ...</td>\n",
              "      <td>здравствовать звать 28051987гра август сообщит...</td>\n",
              "      <td>здравствовать звать 1987г р август сообщить по...</td>\n",
              "      <td>здравствовать звать 28051987гра сообщить полож...</td>\n",
              "      <td>6.0</td>\n",
              "      <td>6.0</td>\n",
              "      <td>6.0</td>\n",
              "      <td>308.0</td>\n",
              "      <td>6.0</td>\n",
              "      <td>6.0</td>\n",
              "      <td>6.0</td>\n",
              "      <td>6.0</td>\n",
              "    </tr>\n",
              "    <tr>\n",
              "      <th>1614</th>\n",
              "      <td>1614</td>\n",
              "      <td>1618</td>\n",
              "      <td>То есть, если я пересекаю границу на машине, в...</td>\n",
              "      <td>308.0</td>\n",
              "      <td>ЗАКРЫТИЕ ГРАНИЦ, ОТКРЫТИЕ ГРАНИЦ РОССИИ И АВИА...</td>\n",
              "      <td>пересекать граница машина весь равно нужно сда...</td>\n",
              "      <td>пересекать граница машина весь равно нужно сда...</td>\n",
              "      <td>пересекать граница машина весь равно нужно сда...</td>\n",
              "      <td>пересекать граница машина весь равно нужно сда...</td>\n",
              "      <td>308.0</td>\n",
              "      <td>308.0</td>\n",
              "      <td>308.0</td>\n",
              "      <td>135.0</td>\n",
              "      <td>308.0</td>\n",
              "      <td>308.0</td>\n",
              "      <td>308.0</td>\n",
              "      <td>308.0</td>\n",
              "    </tr>\n",
              "    <tr>\n",
              "      <th>1615</th>\n",
              "      <td>1615</td>\n",
              "      <td>1619</td>\n",
              "      <td>Добрый день. Подскажите, пожалуйста, нужно ли ...</td>\n",
              "      <td>308.0</td>\n",
              "      <td>ЗАКРЫТИЕ ГРАНИЦ, ОТКРЫТИЕ ГРАНИЦ РОССИИ И АВИА...</td>\n",
              "      <td>добрый день подсказать пожалуйста нужно турист...</td>\n",
              "      <td>добрый день подсказать пожалуйста нужно турист...</td>\n",
              "      <td>добрый день подсказать пожалуйста нужно турист...</td>\n",
              "      <td>добрый день подсказать пожалуйста нужно турист...</td>\n",
              "      <td>6.0</td>\n",
              "      <td>308.0</td>\n",
              "      <td>6.0</td>\n",
              "      <td>257.0</td>\n",
              "      <td>37.0</td>\n",
              "      <td>308.0</td>\n",
              "      <td>6.0</td>\n",
              "      <td>308.0</td>\n",
              "    </tr>\n",
              "    <tr>\n",
              "      <th>1616</th>\n",
              "      <td>1616</td>\n",
              "      <td>1620</td>\n",
              "      <td>Добрый день!\\nМеня зовут Азиза. Я гражданка Ка...</td>\n",
              "      <td>308.0</td>\n",
              "      <td>ЗАКРЫТИЕ ГРАНИЦ, ОТКРЫТИЕ ГРАНИЦ РОССИИ И АВИА...</td>\n",
              "      <td>добрый день звать азиз гражданка казахстан про...</td>\n",
              "      <td>добрый день звать гражданка проживать супруггр...</td>\n",
              "      <td>добрый день звать гражданка проживать супруг г...</td>\n",
              "      <td>добрый день звать гражданка проживать супруггр...</td>\n",
              "      <td>6.0</td>\n",
              "      <td>308.0</td>\n",
              "      <td>6.0</td>\n",
              "      <td>6.0</td>\n",
              "      <td>37.0</td>\n",
              "      <td>308.0</td>\n",
              "      <td>6.0</td>\n",
              "      <td>132.0</td>\n",
              "    </tr>\n",
              "    <tr>\n",
              "      <th>1617</th>\n",
              "      <td>1617</td>\n",
              "      <td>1621</td>\n",
              "      <td>Добрый день! Мы подрядная организация, занимае...</td>\n",
              "      <td>37.0</td>\n",
              "      <td>ОГРАНИЧЕНИЯ, ПРОПУСКНАЯ СИСТЕМА И ПЕРЕМЕЩЕНИЕ ...</td>\n",
              "      <td>добрый день подрядный организация заниматься к...</td>\n",
              "      <td>добрый день подрядный организация заниматься к...</td>\n",
              "      <td>добрый день подрядный организация заниматься к...</td>\n",
              "      <td>добрый день подрядный организация заниматься к...</td>\n",
              "      <td>6.0</td>\n",
              "      <td>308.0</td>\n",
              "      <td>6.0</td>\n",
              "      <td>6.0</td>\n",
              "      <td>37.0</td>\n",
              "      <td>308.0</td>\n",
              "      <td>6.0</td>\n",
              "      <td>308.0</td>\n",
              "    </tr>\n",
              "  </tbody>\n",
              "</table>\n",
              "</div>"
            ],
            "text/plain": [
              "      Unnamed: 0  Unnamed: 0.1  ... natasha_date_tfidf  natasha_date_bm25\n",
              "1613        1613          1617  ...                6.0                6.0\n",
              "1614        1614          1618  ...              308.0              308.0\n",
              "1615        1615          1619  ...                6.0              308.0\n",
              "1616        1616          1620  ...                6.0              132.0\n",
              "1617        1617          1621  ...                6.0              308.0\n",
              "\n",
              "[5 rows x 17 columns]"
            ]
          },
          "metadata": {
            "tags": []
          },
          "execution_count": 42
        }
      ]
    },
    {
      "cell_type": "markdown",
      "metadata": {
        "id": "rt4AHUEJlWBe"
      },
      "source": [
        "# Accuracy"
      ]
    },
    {
      "cell_type": "code",
      "metadata": {
        "id": "n1aXrtx7l79j"
      },
      "source": [
        "from prettytable import PrettyTable\n",
        "from sklearn.metrics import accuracy_score"
      ],
      "execution_count": 43,
      "outputs": []
    },
    {
      "cell_type": "code",
      "metadata": {
        "id": "4l6Onl7vqL3Z",
        "outputId": "e8774eb0-a55d-474d-9ec1-d2ceadd78db8",
        "colab": {
          "base_uri": "https://localhost:8080/",
          "height": 121
        }
      },
      "source": [
        "acc_natasha_tfidf = accuracy_score(test['Номер связки\\n'], test['natasha_tfidf'])\n",
        "acc_natasha_bm25 = accuracy_score(test['Номер связки\\n'], test['natasha_bm25'])\n",
        "acc_deepmipt_tfidf = accuracy_score(test['Номер связки\\n'], test['deepmipt_tfidf'])\n",
        "acc_deepmipt_bm25 = accuracy_score(test['Номер связки\\n'], test['deepmipt_bm25'])\n",
        "acc_nopreproc_tfidf = accuracy_score(test['Номер связки\\n'], test['nopreproc'])\n",
        "acc_nopreproc_bm25 = accuracy_score(test['Номер связки\\n'], test['nopreproc_bm25'])\n",
        "acc_natasha_date_tfidf = accuracy_score(test['Номер связки\\n'], test['natasha_date_tfidf'])\n",
        "acc_natasha_date_bm25 = accuracy_score(test['Номер связки\\n'], test['natasha_date_bm25'])\n",
        "\n",
        "x = PrettyTable()\n",
        "x.field_names = [' ', 'natasha', 'deepmipt', 'no preprocissing', 'natasha + rules for dates']\n",
        "x.add_row(['tfidf', acc_natasha_tfidf, acc_deepmipt_tfidf, acc_nopreproc_tfidf, acc_natasha_date_tfidf])\n",
        "x.add_row(['bm25', acc_natasha_bm25, acc_deepmipt_bm25, acc_nopreproc_bm25, acc_natasha_date_bm25])\n",
        "print(x)"
      ],
      "execution_count": 45,
      "outputs": [
        {
          "output_type": "stream",
          "text": [
            "+-------+--------------------+---------------------+---------------------+---------------------------+\n",
            "|       |      natasha       |       deepmipt      |   no preprocissing  | natasha + rules for dates |\n",
            "+-------+--------------------+---------------------+---------------------+---------------------------+\n",
            "| tfidf | 0.1487481590574374 | 0.14580265095729014 | 0.12371134020618557 |    0.14727540500736377    |\n",
            "|  bm25 | 0.2812960235640648 | 0.23711340206185566 |  0.2533136966126657 |    0.27393225331369664    |\n",
            "+-------+--------------------+---------------------+---------------------+---------------------------+\n"
          ],
          "name": "stdout"
        }
      ]
    }
  ]
}